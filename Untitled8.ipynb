{
 "cells": [
  {
   "cell_type": "code",
   "execution_count": 1,
   "metadata": {},
   "outputs": [
    {
     "name": "stdout",
     "output_type": "stream",
     "text": [
      "Enter your input: Jaiya\n",
      "Length of your string is 5\n",
      "Length of your string is Odd\n",
      "Middle character of your string is i\n"
     ]
    }
   ],
   "source": [
    "#Even Case\n",
    "x = input(\"Enter your input: \")\n",
    "print('Length of your string is', len(x))\n",
    "if (len(x) % 2 == 0):\n",
    "    print(\"Length of your string is Even\")\n",
    "else:\n",
    "    print(\"Length of your string is Odd\")\n",
    "def middle_char(x):\n",
    "    return x[(len(x)-1)//2:(len(x)+2)//2]\n",
    "print(\"Middle character of your string is\", middle_char(x))"
   ]
  },
  {
   "cell_type": "code",
   "execution_count": 2,
   "metadata": {},
   "outputs": [
    {
     "name": "stdout",
     "output_type": "stream",
     "text": [
      "Enter your input: rishitha\n",
      "Length of your string is 8\n",
      "Length of your string is Even\n",
      "Middle character of your string is hi\n"
     ]
    }
   ],
   "source": [
    "#Odd Case\n",
    "x = input(\"Enter your input: \")\n",
    "print('Length of your string is', len(x))\n",
    "if (len(x) % 2 == 0):\n",
    "    print(\"Length of your string is Even\")\n",
    "else:\n",
    "    print(\"Length of your string is Odd\")\n",
    "def middle_char(x):\n",
    "    return x[(len(x)-1)//2:(len(x)+2)//2]\n",
    "print(\"Middle character of your string is\", middle_char(x))"
   ]
  },
  {
   "cell_type": "code",
   "execution_count": null,
   "metadata": {},
   "outputs": [],
   "source": []
  }
 ],
 "metadata": {
  "kernelspec": {
   "display_name": "Python 3",
   "language": "python",
   "name": "python3"
  },
  "language_info": {
   "codemirror_mode": {
    "name": "ipython",
    "version": 3
   },
   "file_extension": ".py",
   "mimetype": "text/x-python",
   "name": "python",
   "nbconvert_exporter": "python",
   "pygments_lexer": "ipython3",
   "version": "3.7.4"
  }
 },
 "nbformat": 4,
 "nbformat_minor": 2
}
